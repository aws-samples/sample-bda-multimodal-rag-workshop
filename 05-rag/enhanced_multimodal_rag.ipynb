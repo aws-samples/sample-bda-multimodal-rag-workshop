{
 "cells": [
  {
   "cell_type": "markdown",
   "metadata": {},
   "source": [
    "# From Insights to Intelligence: Multimodal RAG with Amazon Bedrock\n",
    "\n",
    "This notebook demonstrates how to build a Multimodal Retrieval-Augmented Generation (RAG) application using Amazon Bedrock Data Automation (BDA) and Bedrock Knowledge Bases (KB). The application can analyze and generate insights from multiple data modalities, including documents, images, audio, and video."
   ]
  },
  {
   "cell_type": "markdown",
   "metadata": {},
   "source": [
    "## Setup and Configuration\n",
    "\n",
    "Let's start by setting up the necessary dependencies and AWS clients."
   ]
  },
  {
   "cell_type": "code",
   "execution_count": 1,
   "metadata": {
    "execution": {
     "iopub.execute_input": "2025-10-31T10:38:43.644442Z",
     "iopub.status.busy": "2025-10-31T10:38:43.644113Z",
     "iopub.status.idle": "2025-10-31T10:39:16.017952Z",
     "shell.execute_reply": "2025-10-31T10:39:16.017004Z",
     "shell.execute_reply.started": "2025-10-31T10:38:43.644410Z"
    }
   },
   "outputs": [
    {
     "name": "stdout",
     "output_type": "stream",
     "text": [
      "Note: you may need to restart the kernel to use updated packages.\n",
      "sagemaker.config INFO - Not applying SDK defaults from location: /etc/xdg/sagemaker/config.yaml\n",
      "sagemaker.config INFO - Not applying SDK defaults from location: /home/sagemaker-user/.config/sagemaker/config.yaml\n"
     ]
    },
    {
     "data": {
      "text/html": [
       "\n",
       "            <div style=\"background-color:#f8f8f8; padding:20px; border-radius:10px; margin:20px 0; font-family:Arial, sans-serif;\">\n",
       "                <h2 style=\"color:#0972d1;\">Business Context: Multimodal RAG</h2>\n",
       "                \n",
       "                <p>Multimodal Retrieval-Augmented Generation (RAG) represents the next evolution in enterprise knowledge systems. By incorporating information from documents, images, audio, and video into a unified knowledge framework, multimodal RAG enables AI systems to develop a more comprehensive understanding of your organization's information assets.</p>\n",
       "                \n",
       "                <div style=\"margin:20px 0;\">\n",
       "                    <h3 style=\"color:#0972d1;\">Business Impact Across Industries</h3>\n",
       "                    <ul>\n",
       "                        <li><strong>Financial Services:</strong> Integrate quarterly reports (PDF), earnings calls (audio), market analysis videos, and visualization charts</li>\n",
       "                        <li><strong>Healthcare:</strong> Connect medical literature, diagnostic images, patient records, and consultation recordings</li>\n",
       "                        <li><strong>Manufacturing:</strong> Link equipment manuals, maintenance videos, sensor data visualizations, and technical diagrams</li>\n",
       "                        <li><strong>Media & Entertainment:</strong> Search across video archives, production assets, scripts, and promotional materials</li>\n",
       "                    </ul>\n",
       "                </div>\n",
       "                \n",
       "                <div style=\"margin:20px 0;\">\n",
       "                    <h3 style=\"color:#0972d1;\">Implementation Best Practices</h3>\n",
       "                    <ul>\n",
       "                        <li><strong>Source Attribution:</strong> Always maintain clear links between generated responses and source material</li>\n",
       "                        <li><strong>Modality Integration:</strong> Design data pipelines to preserve context across different media types</li>\n",
       "                        <li><strong>Ethical Considerations:</strong> Implement governance frameworks for data usage and content generation</li>\n",
       "                        <li><strong>Performance Monitoring:</strong> Track accuracy, relevance, and business value metrics</li>\n",
       "                    </ul>\n",
       "                </div>\n",
       "                \n",
       "                <div style=\"font-size:0.8em; border-top:1px solid #ddd; margin-top:20px; padding-top:10px;\">\n",
       "                    <p><strong>Sources:</strong></p>\n",
       "                    <ul>\n",
       "                        <li><a href=\"https://docs.aws.amazon.com/bedrock/latest/userguide/kb-create.html#kb-create-console\" target=\"_blank\">Create a knowledge base by connecting to a data source in Amazon Bedrock Knowledge Bases</a></li>\n",
       "                        <li><a href=\"https://aws.amazon.com/blogs/machine-learning/build-a-contextual-chatbot-application-using-knowledge-bases-for-amazon-bedrock/\" target=\"_blank\">Build a contextual chatbot application using Amazon Bedrock Knowledge Bases - AWS Machine Learning Blog</a></li>\n",
       "                    </ul>\n",
       "                </div>\n",
       "            </div>\n",
       "            "
      ],
      "text/plain": [
       "<IPython.core.display.HTML object>"
      ]
     },
     "metadata": {},
     "output_type": "display_data"
    },
    {
     "name": "stdout",
     "output_type": "stream",
     "text": [
      "Setup complete!\n",
      "Using AWS region: us-west-2\n"
     ]
    }
   ],
   "source": [
    "%pip install \"boto3>=1.37.4\" s3fs tqdm retrying packaging --upgrade -qq\n",
    "\n",
    "import boto3\n",
    "import json\n",
    "import uuid\n",
    "import time\n",
    "import os\n",
    "import random\n",
    "import sagemaker\n",
    "import logging\n",
    "import mimetypes\n",
    "from botocore.exceptions import ClientError\n",
    "import warnings\n",
    "warnings.filterwarnings('ignore')\n",
    "\n",
    "# Import utils and access the business context function\n",
    "from utils.utils import BDARAGUtils\n",
    "\n",
    "# Create utility instance to use its methods\n",
    "rag_utils = BDARAGUtils()\n",
    "\n",
    "# Display comprehensive business context for RAG\n",
    "rag_utils.show_business_context(\"rag_complete\")\n",
    "\n",
    "# Configure logging\n",
    "logging.basicConfig(format='[%(asctime)s] p%(process)s {%(filename)s:%(lineno)d} %(levelname)s - %(message)s', level=logging.INFO)\n",
    "logger = logging.getLogger(__name__)\n",
    "\n",
    "sts_client = boto3.client('sts')\n",
    "account_id = sts_client.get_caller_identity()[\"Account\"]\n",
    "region_name = boto3.session.Session().region_name\n",
    "\n",
    "s3_client = boto3.client('s3')\n",
    "bedrock_agent_client = boto3.client('bedrock-agent')\n",
    "bedrock_agent_runtime_client = boto3.client('bedrock-agent-runtime')\n",
    "\n",
    "print(f\"Setup complete!\")\n",
    "print(f\"Using AWS region: {region_name}\")"
   ]
  },
  {
   "cell_type": "markdown",
   "metadata": {},
   "source": [
    "## 1. Load Knowledge Base Configuration\n",
    "\n",
    "In this step, we'll load the knowledge base configuration created by the setup notebook (00-setup)."
   ]
  },
  {
   "cell_type": "code",
   "execution_count": 2,
   "metadata": {
    "execution": {
     "iopub.execute_input": "2025-10-31T10:39:16.022185Z",
     "iopub.status.busy": "2025-10-31T10:39:16.021798Z",
     "iopub.status.idle": "2025-10-31T10:39:16.030463Z",
     "shell.execute_reply": "2025-10-31T10:39:16.029185Z",
     "shell.execute_reply.started": "2025-10-31T10:39:16.022078Z"
    }
   },
   "outputs": [
    {
     "name": "stdout",
     "output_type": "stream",
     "text": [
      "✅ Knowledge Base configuration loaded successfully!\n",
      "Knowledge Base ID: AT5MCPMWSZ\n",
      "Knowledge Base Name: multimodal-rag-kb-1103523\n",
      "Bucket: bda-workshop-us-west-2-033741858282\n",
      "S3 Prefix: bda-workshop/\n"
     ]
    }
   ],
   "source": [
    "# Import our BDARAGUtils class\n",
    "from utils.utils import BDARAGUtils\n",
    "\n",
    "# Load knowledge base configuration from setup notebook\n",
    "try:\n",
    "    with open('kb_config.json', 'r') as f:\n",
    "        kb_config = json.load(f)\n",
    "    \n",
    "    print(\"Knowledge Base configuration loaded successfully!\")\n",
    "    print(f\"Knowledge Base ID: {kb_config['knowledge_base_id']}\")\n",
    "    print(f\"Knowledge Base Name: {kb_config['knowledge_base_name']}\")\n",
    "    print(f\"Bucket: {kb_config['bucket_name']}\")\n",
    "    print(f\"S3 Prefix: {kb_config['s3_prefix']}\")\n",
    "    \n",
    "    # Extract configuration variables\n",
    "    kb_id = kb_config['knowledge_base_id']\n",
    "    knowledge_base_name = kb_config['knowledge_base_name']\n",
    "    bucket_name_kb = kb_config['bucket_name']\n",
    "    s3_prefix = kb_config['s3_prefix']\n",
    "    kb_suffix = kb_config['suffix']\n",
    "    kb_ready = True\n",
    "    \n",
    "except FileNotFoundError:\n",
    "    print(\"Knowledge Base configuration not found!\")\n",
    "    print(\"Please run the setup notebook (00-setup/enhanced_multimodal_rag.ipynb) first.\")\n",
    "    print(\"\\nNote: An example configuration structure is available in 'kb_config_example.json'\")\n",
    "    kb_ready = False\n",
    "except Exception as e:\n",
    "    print(f\"Error loading Knowledge Base configuration: {e}\")\n",
    "    kb_ready = False"
   ]
  },
  {
   "cell_type": "markdown",
   "metadata": {},
   "source": [
    "## 2. Initialize Knowledge Base Connection\n",
    "\n",
    "Now we'll connect to the existing Knowledge Base created by the setup notebook."
   ]
  },
  {
   "cell_type": "code",
   "execution_count": 10,
   "metadata": {
    "execution": {
     "iopub.execute_input": "2025-10-31T10:49:22.718575Z",
     "iopub.status.busy": "2025-10-31T10:49:22.717987Z",
     "iopub.status.idle": "2025-10-31T10:49:23.177258Z",
     "shell.execute_reply": "2025-10-31T10:49:23.176389Z",
     "shell.execute_reply.started": "2025-10-31T10:49:22.718534Z"
    }
   },
   "outputs": [
    {
     "data": {
      "text/html": [
       "\n",
       "            <div style=\"background-color:#f8f8f8; padding:20px; border-radius:10px; margin:20px 0; font-family:Arial, sans-serif;\">\n",
       "                <h2 style=\"color:#0972d1;\">Amazon Bedrock Knowledge Base</h2>\n",
       "                \n",
       "                <p>Amazon Bedrock Knowledge Bases is a fully managed capability that you can use to implement the entire RAG workflow from ingestion to retrieval and prompt augmentation—without building custom integrations to data sources and managing data flows. Knowledge Bases serve as the intelligent memory for foundation models, allowing them to use your data to generate accurate and contextually relevant responses.</p>\n",
       "                \n",
       "                <div style=\"margin:20px 0;\">\n",
       "                    <h3 style=\"color:#0972d1;\">Key Capabilities</h3>\n",
       "                    <ul>\n",
       "                        <li><strong>Multimodal Support:</strong> Process and query across documents, images, audio, and video content</li>\n",
       "                        <li><strong>Vector Embedding:</strong> Automatically convert content into vector embeddings using foundation models</li>\n",
       "                        <li><strong>Intelligent Chunking:</strong> Apply different chunking strategies (fixed-size, hierarchical, semantic) based on content</li>\n",
       "                        <li><strong>Secure Access:</strong> Fine-grained access controls and encryption for sensitive information</li>\n",
       "                    </ul>\n",
       "                </div>\n",
       "                \n",
       "                <div style=\"margin:20px 0;\">\n",
       "                    <h3 style=\"color:#0972d1;\">Architecture Components</h3>\n",
       "                    <ul>\n",
       "                        <li><strong>OpenSearch Serverless:</strong> Fully managed vector database for efficient similarity search</li>\n",
       "                        <li><strong>S3 Storage:</strong> Secure object storage for maintaining original files and supplemental content</li>\n",
       "                        <li><strong>IAM Roles:</strong> Secure execution roles with fine-grained permissions for Knowledge Base operations</li>\n",
       "                        <li><strong>Foundation Models:</strong> Access to embedding, generation, and reranking models via Amazon Bedrock</li>\n",
       "                    </ul>\n",
       "                </div>\n",
       "                \n",
       "                <div style=\"font-size:0.8em; border-top:1px solid #ddd; margin-top:20px; padding-top:10px;\">\n",
       "                    <p><strong>Sources:</strong></p>\n",
       "                    <ul>\n",
       "                        <li><a href=\"https://docs.aws.amazon.com/nova/latest/userguide/rag-br-knowledge.html\" target=\"_blank\">Using Amazon Bedrock Knowledge Bases - Amazon Nova</a></li>\n",
       "                        <li><a href=\"https://docs.aws.amazon.com/bedrock/latest/userguide/kb-how-it-works.html\" target=\"_blank\">How Amazon Bedrock knowledge bases work</a></li>\n",
       "                        <li><a href=\"https://docs.aws.amazon.com/prescriptive-guidance/latest/retrieval-augmented-generation-options/rag-fully-managed-bedrock.html\" target=\"_blank\">Knowledge bases for Amazon Bedrock - AWS Prescriptive Guidance</a></li>\n",
       "                    </ul>\n",
       "                </div>\n",
       "            </div>\n",
       "            "
      ],
      "text/plain": [
       "<IPython.core.display.HTML object>"
      ]
     },
     "metadata": {},
     "output_type": "display_data"
    },
    {
     "name": "stdout",
     "output_type": "stream",
     "text": [
      "🔗 Connecting to existing Knowledge Base: multimodal-rag-kb-1103523\n",
      "✓ Retrieved Knowledge Base details from AWS\n",
      "✓ Found 1 data sources\n",
      "\n",
      "✅ Successfully connected to Knowledge Base!\n",
      "Knowledge Base ID: AT5MCPMWSZ\n",
      "Ready for data ingestion and querying.\n"
     ]
    }
   ],
   "source": [
    "# Only proceed if we have a valid knowledge base configuration\n",
    "if not kb_ready:\n",
    "    print(\"\\nCannot proceed without Knowledge Base configuration from setup notebook.\")\n",
    "else:\n",
    "    # Display business context for Knowledge Base connection\n",
    "    rag_utils.show_business_context(\"knowledge_base\")\n",
    "    \n",
    "    # Initialize connection to existing Knowledge Base\n",
    "    print(f\"🔗 Connecting to existing Knowledge Base: {knowledge_base_name}\")\n",
    "    \n",
    "    try:\n",
    "        # Create BDARAGUtils instance with the saved configuration\n",
    "        kb_obj_config = kb_config['knowledge_base_object']\n",
    "        knowledge_base = BDARAGUtils(\n",
    "            kb_name=kb_obj_config['kb_name'],\n",
    "            kb_description=kb_obj_config['kb_description'],\n",
    "            data_sources=kb_obj_config['data_sources'],\n",
    "            multi_modal=kb_obj_config['multi_modal'],\n",
    "            parser=kb_obj_config['parser'],\n",
    "            chunking_strategy=kb_obj_config['chunking_strategy'],\n",
    "            embedding_model=kb_obj_config['embedding_model'],\n",
    "            suffix=kb_suffix\n",
    "        )\n",
    "        \n",
    "        # Set the knowledge base ID from the saved configuration\n",
    "        knowledge_base.knowledge_base_id = kb_id\n",
    "        \n",
    "        # Get the actual knowledge base details from AWS\n",
    "        try:\n",
    "            kb_response = bedrock_agent_client.get_knowledge_base(knowledgeBaseId=kb_id)\n",
    "            knowledge_base.knowledge_base = kb_response['knowledgeBase']\n",
    "            print(f\"✓ Retrieved Knowledge Base details from AWS\")\n",
    "            \n",
    "            # Get the data sources for this knowledge base\n",
    "            ds_response = bedrock_agent_client.list_data_sources(knowledgeBaseId=kb_id)\n",
    "            knowledge_base.data_source = ds_response.get('dataSourceSummaries', [])\n",
    "            print(f\"✓ Found {len(knowledge_base.data_source)} data sources\")\n",
    "            \n",
    "        except Exception as e:\n",
    "            print(f\"Warning: Could not retrieve Knowledge Base details: {e}\")\n",
    "            # Set minimal required attributes\n",
    "            knowledge_base.knowledge_base = {\n",
    "                'knowledgeBaseId': kb_id,\n",
    "                'name': knowledge_base_name\n",
    "            }\n",
    "            knowledge_base.data_source = []\n",
    "        \n",
    "        print(f\"\\nSuccessfully connected to Knowledge Base!\")\n",
    "        print(f\"Knowledge Base ID: {kb_id}\")\n",
    "        print(f\"Ready for data ingestion and querying.\")\n",
    "        \n",
    "    except Exception as e:\n",
    "        print(f\"\\nError connecting to Knowledge Base: {e}\")\n",
    "        kb_ready = False"
   ]
  },
  {
   "cell_type": "markdown",
   "metadata": {},
   "source": [
    "## 3. Start Data Ingestion\n",
    "\n",
    "Now that we've connected to our Knowledge Base, we need to ingest the multimodal data. This process transforms our files into vector embeddings that can be efficiently searched."
   ]
  },
  {
   "cell_type": "code",
   "execution_count": 4,
   "metadata": {
    "execution": {
     "iopub.execute_input": "2025-10-31T10:39:16.408985Z",
     "iopub.status.busy": "2025-10-31T10:39:16.408622Z",
     "iopub.status.idle": "2025-10-31T10:49:10.532304Z",
     "shell.execute_reply": "2025-10-31T10:49:10.530016Z",
     "shell.execute_reply.started": "2025-10-31T10:39:16.408952Z"
    }
   },
   "outputs": [
    {
     "name": "stdout",
     "output_type": "stream",
     "text": [
      "🚀 Starting data ingestion...\n",
      "This process may take several minutes depending on the amount and size of data.\n"
     ]
    },
    {
     "data": {
      "text/html": [
       "\n",
       "            <div style=\"background-color:#f8f8f8; padding:20px; border-radius:10px; margin:20px 0; font-family:Arial, sans-serif;\">\n",
       "                <h2 style=\"color:#0972d1;\">Knowledge Base Ingestion Process</h2>\n",
       "                \n",
       "                <p>Amazon Bedrock Knowledge Bases internally fetches your documents, chunks them into blocks of text, converts the text to embeddings, and then stores the embeddings in your choice of vector database. Data ingestion is the critical process that transforms raw content into queryable knowledge.</p>\n",
       "                \n",
       "                <div style=\"margin:20px 0;\">\n",
       "                    <h3 style=\"color:#0972d1;\">Ingestion Pipeline</h3>\n",
       "                    <ol>\n",
       "                        <li><strong>Document Loading:</strong> Raw documents are loaded from the configured data source (S3, SharePoint, etc.)</li>\n",
       "                        <li><strong>Content Extraction:</strong> Text and metadata are extracted from various file formats</li>\n",
       "                        <li><strong>Chunking:</strong> Content is divided into semantic units based on your configured chunking strategy</li>\n",
       "                        <li><strong>Embedding Generation:</strong> Each chunk is transformed into a vector representation using foundation models</li>\n",
       "                        <li><strong>Vector Indexing:</strong> Vectors are stored in the vector index with metadata for efficient retrieval</li>\n",
       "                    </ol>\n",
       "                </div>\n",
       "                \n",
       "                <div style=\"margin:20px 0;\">\n",
       "                    <h3 style=\"color:#0972d1;\">Chunking Strategies</h3>\n",
       "                    <ul>\n",
       "                        <li><strong>Fixed-Size:</strong> Divides content into chunks of consistent token lengths with configurable overlap</li>\n",
       "                        <li><strong>Hierarchical:</strong> Creates multi-level chunks to maintain both context and granularity</li>\n",
       "                        <li><strong>Semantic:</strong> Chunks content based on semantic meaning rather than arbitrary token counts</li>\n",
       "                        <li><strong>Custom:</strong> Apply custom chunking logic through Lambda functions for specialized needs</li>\n",
       "                    </ul>\n",
       "                </div>\n",
       "                \n",
       "                <div style=\"font-size:0.8em; border-top:1px solid #ddd; margin-top:20px; padding-top:10px;\">\n",
       "                    <p><strong>Sources:</strong></p>\n",
       "                    <ul>\n",
       "                        <li><a href=\"https://docs.aws.amazon.com/bedrock/latest/userguide/kb-data-source-customize-ingestion.html\" target=\"_blank\">Customize ingestion for a data source - Amazon Bedrock</a></li>\n",
       "                        <li><a href=\"https://docs.aws.amazon.com/prescriptive-guidance/latest/retrieval-augmented-generation-options/rag-fully-managed-bedrock.html\" target=\"_blank\">Knowledge bases for Amazon Bedrock - AWS Prescriptive Guidance</a></li>\n",
       "                        <li><a href=\"https://docs.aws.amazon.com/bedrock/latest/userguide/kb-advanced-parsing.html\" target=\"_blank\">Parsing options for your data source - Amazon Bedrock</a></li>\n",
       "                    </ul>\n",
       "                </div>\n",
       "            </div>\n",
       "            "
      ],
      "text/plain": [
       "<IPython.core.display.HTML object>"
      ]
     },
     "metadata": {},
     "output_type": "display_data"
    },
    {
     "name": "stdout",
     "output_type": "stream",
     "text": [
      "Found 1 data sources to ingest\n",
      "Starting data ingestion jobs...\n",
      "Waiting for Knowledge Base to be fully available...\n",
      "Starting ingestion job for data source 1/1...\n",
      "✓ Ingestion job started for data source 1 with ID: NGAKAEX7K1\n",
      "Monitoring ingestion job status...\n",
      "Job status: IN_PROGRESS\n",
      "Job status: IN_PROGRESS\n",
      "Job status: IN_PROGRESS\n",
      "Job status: IN_PROGRESS\n",
      "Job status: IN_PROGRESS\n",
      "Job status: IN_PROGRESS\n",
      "Job status: IN_PROGRESS\n",
      "Job status: IN_PROGRESS\n",
      "Job status: IN_PROGRESS\n",
      "Job status: IN_PROGRESS\n",
      "Job status: IN_PROGRESS\n",
      "Job status: IN_PROGRESS\n",
      "Job status: IN_PROGRESS\n",
      "Job status: IN_PROGRESS\n",
      "Job status: IN_PROGRESS\n",
      "Job status: IN_PROGRESS\n",
      "Job status: IN_PROGRESS\n",
      "Job status: IN_PROGRESS\n",
      "Job status: IN_PROGRESS\n",
      "Job status: IN_PROGRESS\n",
      "Job status: IN_PROGRESS\n",
      "Job status: IN_PROGRESS\n",
      "Job status: IN_PROGRESS\n",
      "Job status: IN_PROGRESS\n",
      "Job status: IN_PROGRESS\n",
      "Job status: IN_PROGRESS\n",
      "Job status: IN_PROGRESS\n",
      "Job status: IN_PROGRESS\n",
      "Job status: IN_PROGRESS\n",
      "Job status: IN_PROGRESS\n",
      "Job status: IN_PROGRESS\n",
      "Job status: IN_PROGRESS\n",
      "Job status: IN_PROGRESS\n",
      "Job status: IN_PROGRESS\n",
      "Job status: IN_PROGRESS\n",
      "Job status: IN_PROGRESS\n",
      "Job status: IN_PROGRESS\n",
      "Job status: IN_PROGRESS\n",
      "Job status: IN_PROGRESS\n",
      "Job status: IN_PROGRESS\n",
      "Job status: IN_PROGRESS\n",
      "Job status: IN_PROGRESS\n",
      "Job status: IN_PROGRESS\n",
      "Job status: IN_PROGRESS\n",
      "Job status: IN_PROGRESS\n",
      "Job status: IN_PROGRESS\n",
      "Job status: IN_PROGRESS\n",
      "Job status: IN_PROGRESS\n",
      "Job status: IN_PROGRESS\n",
      "Job status: IN_PROGRESS\n",
      "Job status: IN_PROGRESS\n",
      "Job status: IN_PROGRESS\n",
      "Job status: IN_PROGRESS\n",
      "Job status: IN_PROGRESS\n",
      "Job status: IN_PROGRESS\n",
      "Job status: IN_PROGRESS\n",
      "Job status: IN_PROGRESS\n",
      "Job status: IN_PROGRESS\n",
      "Job status: IN_PROGRESS\n",
      "Job status: IN_PROGRESS\n",
      "Job status: IN_PROGRESS\n",
      "Job status: IN_PROGRESS\n",
      "Job status: IN_PROGRESS\n",
      "Job status: IN_PROGRESS\n",
      "Job status: IN_PROGRESS\n",
      "Job status: IN_PROGRESS\n",
      "Job status: IN_PROGRESS\n",
      "Job status: IN_PROGRESS\n",
      "Job status: IN_PROGRESS\n",
      "Job status: IN_PROGRESS\n",
      "Job status: IN_PROGRESS\n",
      "Job status: IN_PROGRESS\n",
      "Job status: IN_PROGRESS\n",
      "Job status: IN_PROGRESS\n",
      "Job status: IN_PROGRESS\n",
      "Job status: IN_PROGRESS\n",
      "Job status: IN_PROGRESS\n",
      "Job status: IN_PROGRESS\n",
      "Job status: IN_PROGRESS\n",
      "Job status: IN_PROGRESS\n",
      "Job status: IN_PROGRESS\n",
      "Job status: IN_PROGRESS\n",
      "Job status: IN_PROGRESS\n",
      "Job status: IN_PROGRESS\n",
      "Job status: IN_PROGRESS\n",
      "Job status: IN_PROGRESS\n",
      "Job status: IN_PROGRESS\n",
      "Job status: IN_PROGRESS\n",
      "Job status: IN_PROGRESS\n",
      "Job status: IN_PROGRESS\n",
      "Job status: IN_PROGRESS\n",
      "Job status: IN_PROGRESS\n",
      "Job status: IN_PROGRESS\n",
      "Job status: IN_PROGRESS\n",
      "Job status: IN_PROGRESS\n",
      "Job status: IN_PROGRESS\n",
      "Job status: IN_PROGRESS\n",
      "Job status: IN_PROGRESS\n",
      "Job status: IN_PROGRESS\n",
      "Job status: IN_PROGRESS\n",
      "Job status: IN_PROGRESS\n",
      "Job status: IN_PROGRESS\n",
      "Job status: IN_PROGRESS\n",
      "Job status: IN_PROGRESS\n",
      "Job status: IN_PROGRESS\n",
      "Job status: IN_PROGRESS\n",
      "Job status: IN_PROGRESS\n",
      "Job status: IN_PROGRESS\n",
      "Job status: IN_PROGRESS\n",
      "Job status: IN_PROGRESS\n",
      "Job status: COMPLETE\n",
      "✅ Ingestion job completed successfully for data source 1\n",
      "✅ All ingestion jobs completed!\n",
      "\n",
      "✅ Data ingestion completed successfully!\n",
      "Knowledge Base is now ready for querying.\n"
     ]
    }
   ],
   "source": [
    "# Only proceed if we have a ready knowledge base\n",
    "if not kb_ready:\n",
    "    print(\"\\nCannot ingest data without a properly configured Knowledge Base.\")\n",
    "else:\n",
    "    print(\"Starting data ingestion...\")\n",
    "    print(\"This process may take several minutes depending on the amount and size of data.\")\n",
    "\n",
    "    # Display business context for data ingestion process\n",
    "    rag_utils.show_business_context(\"data_ingestion\")\n",
    "\n",
    "    try:\n",
    "        # Check if we have data sources before starting ingestion\n",
    "        if hasattr(knowledge_base, 'data_source') and knowledge_base.data_source:\n",
    "            print(f\"Found {len(knowledge_base.data_source)} data sources to ingest\")\n",
    "            # Start the ingestion job\n",
    "            knowledge_base.start_ingestion_job()\n",
    "            print(\"\\n Data ingestion completed successfully!\")\n",
    "            print(\"Knowledge Base is now ready for querying.\")\n",
    "        else:\n",
    "            print(\"\\n No data sources found in the Knowledge Base.\")\n",
    "            print(\"The Knowledge Base may already have data ingested, or you may need to add data sources.\")\n",
    "            print(\"You can still proceed with querying if data was previously ingested.\")\n",
    "    except Exception as e:\n",
    "        print(f\"\\nError during data ingestion: {e}\")\n",
    "        print(\"You may still be able to query the Knowledge Base if data was previously ingested.\")"
   ]
  },
  {
   "cell_type": "markdown",
   "metadata": {},
   "source": [
    "## 4. Query the Knowledge Base\n",
    "\n",
    "Now that our data is ingested, we can query the Knowledge Base using natural language. We'll use Amazon Bedrock's RetrieveAndGenerate API."
   ]
  },
  {
   "cell_type": "code",
   "execution_count": 5,
   "metadata": {
    "execution": {
     "iopub.execute_input": "2025-10-31T10:49:10.541220Z",
     "iopub.status.busy": "2025-10-31T10:49:10.540674Z",
     "iopub.status.idle": "2025-10-31T10:49:10.555191Z",
     "shell.execute_reply": "2025-10-31T10:49:10.553132Z",
     "shell.execute_reply.started": "2025-10-31T10:49:10.541185Z"
    }
   },
   "outputs": [
    {
     "data": {
      "text/html": [
       "\n",
       "            <div style=\"background-color:#f8f8f8; padding:20px; border-radius:10px; margin:20px 0; font-family:Arial, sans-serif;\">\n",
       "                <h2 style=\"color:#0972d1;\">Semantic Search Process</h2>\n",
       "                \n",
       "                <p>Amazon Bedrock Knowledge Bases provides two primary APIs for RAG: RetrieveAndGenerate for complete query-to-answer workflows, and Retrieve for direct access to search results. These APIs enable semantic search that goes beyond keyword matching to find content based on meaning and context.</p>\n",
       "                \n",
       "                <div style=\"margin:20px 0;\">\n",
       "                    <h3 style=\"color:#0972d1;\">The RAG Query Process</h3>\n",
       "                    <ol>\n",
       "                        <li><strong>Query Embedding:</strong> The user's natural language query is transformed into a vector embedding</li>\n",
       "                        <li><strong>Vector Search:</strong> The query vector is compared to document vectors using similarity metrics</li>\n",
       "                        <li><strong>Retrieval:</strong> The most semantically similar document chunks are retrieved from the vector store</li>\n",
       "                        <li><strong>Context Assembly:</strong> Retrieved content is assembled as context for the foundation model</li>\n",
       "                        <li><strong>Response Generation:</strong> The foundation model generates a response based on the retrieved context</li>\n",
       "                        <li><strong>Citation Generation:</strong> Citations are added to attribute information sources</li>\n",
       "                    </ol>\n",
       "                </div>\n",
       "                \n",
       "                <div style=\"margin:20px 0;\">\n",
       "                    <h3 style=\"color:#0972d1;\">Multimodal Retrieval Options</h3>\n",
       "                    <p>When working with multimodal data in RAG applications, Amazon provides two primary approaches:</p>\n",
       "                    <ul>\n",
       "                        <li><strong>Multimodal Embeddings:</strong> Using models like Titan Multimodal Embeddings to convert both text and images into vector representations</li>\n",
       "                        <li><strong>Text-based Representations:</strong> Converting multimodal content into text descriptions that can be embedded with text embeddings models</li>\n",
       "                        <li><strong>Bedrock Data Automation Parser:</strong> Processing multimodal data through BDA to extract structured information before ingestion</li>\n",
       "                        <li><strong>Supplemental Storage Configuration:</strong> Storing extracted multimodal data in S3 for reference during query responses</li>\n",
       "                    </ul>\n",
       "                </div>\n",
       "                \n",
       "                <div style=\"font-size:0.8em; border-top:1px solid #ddd; margin-top:20px; padding-top:10px;\">\n",
       "                    <p><strong>Sources:</strong></p>\n",
       "                    <ul>\n",
       "                        <li><a href=\"https://docs.aws.amazon.com/bedrock/latest/APIReference/API_agent-runtime_RetrieveAndGenerate.html\" target=\"_blank\">RetrieveAndGenerate - Amazon Bedrock API Reference</a></li>\n",
       "                        <li><a href=\"https://docs.aws.amazon.com/bedrock/latest/APIReference/API_agent-runtime_Retrieve.html\" target=\"_blank\">Retrieve - Amazon Bedrock API Reference</a></li>\n",
       "                        <li><a href=\"https://docs.aws.amazon.com/bedrock/latest/userguide/model-parameters-titan-embed-mm.html\" target=\"_blank\">Amazon Titan Multimodal Embeddings G1 - Amazon Bedrock</a></li>\n",
       "                    </ul>\n",
       "                </div>\n",
       "            </div>\n",
       "            "
      ],
      "text/plain": [
       "<IPython.core.display.HTML object>"
      ]
     },
     "metadata": {},
     "output_type": "display_data"
    }
   ],
   "source": [
    "# Only proceed if we have a ready knowledge base\n",
    "if not kb_ready:\n",
    "    print(\"\\n Cannot query without a properly configured Knowledge Base.\")\n",
    "else:\n",
    "    # Display business context for semantic search and querying\n",
    "    rag_utils.show_business_context(\"semantic_search\")\n",
    "\n",
    "    def query_kb(query, model_id=\"amazon.nova-pro-v1:0\", num_results=5):\n",
    "        \"\"\"\n",
    "        Query the knowledge base using real AWS API calls and display the results\n",
    "        \n",
    "        Args:\n",
    "            query: The query to send to the knowledge base\n",
    "            model_id: The foundation model to use for generating the response\n",
    "            num_results: Number of results to retrieve from the knowledge base\n",
    "        \"\"\"\n",
    "        print(f\"🔍 Query: {query}\")\n",
    "        print(f\"Processing...\")\n",
    "        \n",
    "        try:\n",
    "            # Use the real AWS API to query the knowledge base\n",
    "            response = knowledge_base.query_knowledge_base(\n",
    "                query=query,\n",
    "                model_id=model_id,\n",
    "                num_results=num_results\n",
    "            )\n",
    "                \n",
    "            # Return the raw response\n",
    "            return response\n",
    "        \n",
    "        except Exception as e:\n",
    "            print(f\"\\n Error querying Knowledge Base: {e}\")\n",
    "            return None"
   ]
  },
  {
   "cell_type": "markdown",
   "metadata": {},
   "source": [
    "### Query 1: Audio Content\n",
    "\n",
    "Let's start by querying information from the audio content."
   ]
  },
  {
   "cell_type": "code",
   "execution_count": 6,
   "metadata": {
    "execution": {
     "iopub.execute_input": "2025-10-31T10:49:10.561345Z",
     "iopub.status.busy": "2025-10-31T10:49:10.561080Z",
     "iopub.status.idle": "2025-10-31T10:49:13.522670Z",
     "shell.execute_reply": "2025-10-31T10:49:13.521800Z",
     "shell.execute_reply.started": "2025-10-31T10:49:10.561322Z"
    }
   },
   "outputs": [
    {
     "name": "stdout",
     "output_type": "stream",
     "text": [
      "🔍 Query: What key topics were discussed in the AWS podcast?\n",
      "Processing...\n",
      "Query processed in 2.95 seconds\n",
      "\n",
      "Response:\n",
      "The key topics discussed in the AWS podcast include:\n",
      "\n",
      "1. **Introduction and Welcome**: The hosts, Nolan Chen and Malini Chatterjee, welcome their guest, Ben Schneider, to the AWS Rethink podcast.\n",
      "\n",
      "2. **Recap of AWS Reinvent 2024**: The discussion includes a recap of the AWS Reinvent 2024 event, which took place earlier that month in Las Vegas.\n",
      "\n",
      "3. **Guest Introduction**: Ben Schneider, the head of AI and modern data strategy business development at AWS, shares his experience and role at AWS.\n",
      "\n",
      "These topics form the core of the discussion in the podcast.\n"
     ]
    }
   ],
   "source": [
    "# Only run if we have a Knowledge Base set up\n",
    "if kb_ready:\n",
    "    # Query about the audio content\n",
    "    audio_query = \"What key topics were discussed in the AWS podcast?\"\n",
    "    \n",
    "    audio_response = query_kb(audio_query)"
   ]
  },
  {
   "cell_type": "markdown",
   "metadata": {},
   "source": [
    "### Query 2: Visual Content\n",
    "\n",
    "Now let's query information from the image."
   ]
  },
  {
   "cell_type": "code",
   "execution_count": 7,
   "metadata": {
    "execution": {
     "iopub.execute_input": "2025-10-31T10:49:13.528374Z",
     "iopub.status.busy": "2025-10-31T10:49:13.526011Z",
     "iopub.status.idle": "2025-10-31T10:49:17.111340Z",
     "shell.execute_reply": "2025-10-31T10:49:17.109863Z",
     "shell.execute_reply.started": "2025-10-31T10:49:13.528334Z"
    }
   },
   "outputs": [
    {
     "name": "stdout",
     "output_type": "stream",
     "text": [
      "🔍 Query: What were the products shown at the Airport?\n",
      "Processing...\n",
      "Query processed in 3.57 seconds\n",
      "\n",
      "Response:\n",
      "According to the obtained information, the products showcased at the airport were suitcases.\n",
      "\n",
      "There is enough evidence in the results to conclude that suitcases were the products shown at the airport. Two suitcases were spotted in front of a large window with an airplane view, placed on the floor. The presence of suitcases is further corroborated by the text appearing in the results, where it reads, \"Find more suitcases on Amazon.com\". \n",
      "\n",
      "While there might be other products available at the airport, the specific product identified and emphasized in the results is the suitcase. Therefore, it is reasonable to infer that the primary product showcased at the airport was the suitcase.\n"
     ]
    }
   ],
   "source": [
    "# Only run if we have a Knowledge Base set up\n",
    "if kb_ready:\n",
    "    # Query about visual content\n",
    "    visual_query = \"What were the products shown at the Airport?\"\n",
    "    \n",
    "    visual_response = query_kb(visual_query)"
   ]
  },
  {
   "cell_type": "markdown",
   "metadata": {},
   "source": [
    "### Query 3: Document Content\n",
    "\n",
    "Let's explore information from document content."
   ]
  },
  {
   "cell_type": "code",
   "execution_count": 8,
   "metadata": {
    "execution": {
     "iopub.execute_input": "2025-10-31T10:49:17.122586Z",
     "iopub.status.busy": "2025-10-31T10:49:17.120954Z",
     "iopub.status.idle": "2025-10-31T10:49:19.818289Z",
     "shell.execute_reply": "2025-10-31T10:49:19.817442Z",
     "shell.execute_reply.started": "2025-10-31T10:49:17.122541Z"
    }
   },
   "outputs": [
    {
     "name": "stdout",
     "output_type": "stream",
     "text": [
      "🔍 Query: What are the key callouts from the treasury statement?\n",
      "Processing...\n",
      "Query processed in 2.67 seconds\n",
      "\n",
      "Response:\n",
      "The key callouts from the treasury statement include the fact that monthly statements of receipts and outlays of the U.S. Government (MTS) are published by the Bureau of the Fiscal Service, Department of the Treasury and the MTS is part of a triad of Treasury financial reports, which include the Daily Treasury Statement, the Monthly Statement of the Public Debt, and the Combined Statement of Receipts, Outlays, and Balances.\n"
     ]
    }
   ],
   "source": [
    "# Only run if we have a Knowledge Base set up\n",
    "if kb_ready:\n",
    "    # Query about document content\n",
    "    document_query = \"What are the key callouts from the treasury statement?\"\n",
    "    \n",
    "    document_response = query_kb(document_query)"
   ]
  },
  {
   "cell_type": "markdown",
   "metadata": {},
   "source": [
    "### Query 4: Video Content\n",
    "\n",
    "Now let's ask a question from the Video."
   ]
  },
  {
   "cell_type": "code",
   "execution_count": 9,
   "metadata": {
    "execution": {
     "iopub.execute_input": "2025-10-31T10:49:19.824108Z",
     "iopub.status.busy": "2025-10-31T10:49:19.822299Z",
     "iopub.status.idle": "2025-10-31T10:49:21.976562Z",
     "shell.execute_reply": "2025-10-31T10:49:21.975661Z",
     "shell.execute_reply.started": "2025-10-31T10:49:19.824071Z"
    }
   },
   "outputs": [
    {
     "name": "stdout",
     "output_type": "stream",
     "text": [
      "🔍 Query: What happened in El Matador beach?\n",
      "Processing...\n",
      "Query processed in 2.14 seconds\n",
      "\n",
      "Response:\n",
      "Based on the retrieved results, there were mysterious disappearances along the stretch of road above El Matador Beach. A witness saw a man atop a rock formation, who then disappeared and was replaced by a woman in a white dress. \n",
      "\n",
      "The disappearances were investigated by Detective Sullivan, who dismissed theories that they were mob-related incidents or suicides. The only common thread among the victims was their divorced status.\n"
     ]
    }
   ],
   "source": [
    "# Only run if we have a Knowledge Base set up\n",
    "if kb_ready:\n",
    "    # Query requiring cross-modal integration\n",
    "    cross_modal_query = \"What happened in El Matador beach?\"\n",
    "    \n",
    "    cross_modal_response = query_kb(\n",
    "        query=cross_modal_query,\n",
    "        num_results=8  # Increase results to capture information from multiple modalities\n",
    "    )"
   ]
  },
  {
   "cell_type": "markdown",
   "metadata": {},
   "source": [
    "## Summary\n",
    "\n",
    "In this notebook, we demonstrated how to build a Multimodal RAG application using Amazon Bedrock Data Automation and Bedrock Knowledge Bases. We covered the key steps:\n",
    "\n",
    "1. **Knowledge Base Configuration**: We loaded the Knowledge Base configuration created by the setup notebook\n",
    "2. **Knowledge Base Connection**: We connected to the existing Knowledge Base using the saved configuration\n",
    "3. **Data Ingestion**: We ingested multimodal data into the Knowledge Base\n",
    "4. **Querying**: We queried the Knowledge Base across different modalities using natural language\n",
    "\n",
    "This integrated workflow demonstrates how to properly separate setup and usage concerns, allowing the setup notebook to handle resource creation while this notebook focuses on data ingestion and querying. The Knowledge Base can now answer questions across all modalities in your data."
   ]
  }
 ],
 "metadata": {
  "kernelspec": {
   "display_name": "Python 3 (ipykernel)",
   "language": "python",
   "name": "python3"
  },
  "language_info": {
   "codemirror_mode": {
    "name": "ipython",
    "version": 3
   },
   "file_extension": ".py",
   "mimetype": "text/x-python",
   "name": "python",
   "nbconvert_exporter": "python",
   "pygments_lexer": "ipython3",
   "version": "3.12.9"
  }
 },
 "nbformat": 4,
 "nbformat_minor": 4
}
