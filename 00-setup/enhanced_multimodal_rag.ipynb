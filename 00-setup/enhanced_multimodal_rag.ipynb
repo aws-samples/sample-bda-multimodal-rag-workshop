{
 "cells": [
  {
   "cell_type": "markdown",
   "metadata": {},
   "source": [
    "# Document Insights with Amazon Bedrock Data Automation: Setup\n",
    "\n",
    "This notebook contains the prerequisites to setup a Multimodal Retrieval-Augmented Generation (RAG) application using Amazon Bedrock Data Automation (BDA) and Bedrock Knowledge Bases (KB). The application can analyze and generate insights from multiple data modalities, including documents, images, audio, and video."
   ]
  },
  {
   "cell_type": "markdown",
   "metadata": {},
   "source": [
    "## Setup and Configuration\n",
    "\n",
    "Let's start by setting up the necessary dependencies and AWS clients."
   ]
  },
  {
   "cell_type": "code",
   "execution_count": 1,
   "metadata": {
    "execution": {
     "iopub.execute_input": "2025-10-31T10:34:55.004824Z",
     "iopub.status.busy": "2025-10-31T10:34:55.004266Z",
     "iopub.status.idle": "2025-10-31T10:35:23.768755Z",
     "shell.execute_reply": "2025-10-31T10:35:23.765726Z",
     "shell.execute_reply.started": "2025-10-31T10:34:55.004790Z"
    }
   },
   "outputs": [
    {
     "name": "stdout",
     "output_type": "stream",
     "text": [
      "Note: you may need to restart the kernel to use updated packages.\n",
      "sagemaker.config INFO - Not applying SDK defaults from location: /etc/xdg/sagemaker/config.yaml\n",
      "sagemaker.config INFO - Not applying SDK defaults from location: /home/sagemaker-user/.config/sagemaker/config.yaml\n"
     ]
    },
    {
     "data": {
      "text/html": [
       "\n",
       "            <div style=\"background-color:#f8f8f8; padding:20px; border-radius:10px; margin:20px 0; font-family:Arial, sans-serif;\">\n",
       "                <h2 style=\"color:#0972d1;\">Business Context: Multimodal RAG</h2>\n",
       "                \n",
       "                <p>Multimodal Retrieval-Augmented Generation (RAG) represents the next evolution in enterprise knowledge systems. By incorporating information from documents, images, audio, and video into a unified knowledge framework, multimodal RAG enables AI systems to develop a more comprehensive understanding of your organization's information assets.</p>\n",
       "                \n",
       "                <div style=\"margin:20px 0;\">\n",
       "                    <h3 style=\"color:#0972d1;\">Business Impact Across Industries</h3>\n",
       "                    <ul>\n",
       "                        <li><strong>Financial Services:</strong> Integrate quarterly reports (PDF), earnings calls (audio), market analysis videos, and visualization charts</li>\n",
       "                        <li><strong>Healthcare:</strong> Connect medical literature, diagnostic images, patient records, and consultation recordings</li>\n",
       "                        <li><strong>Manufacturing:</strong> Link equipment manuals, maintenance videos, sensor data visualizations, and technical diagrams</li>\n",
       "                        <li><strong>Media & Entertainment:</strong> Search across video archives, production assets, scripts, and promotional materials</li>\n",
       "                    </ul>\n",
       "                </div>\n",
       "                \n",
       "                <div style=\"margin:20px 0;\">\n",
       "                    <h3 style=\"color:#0972d1;\">Implementation Best Practices</h3>\n",
       "                    <ul>\n",
       "                        <li><strong>Source Attribution:</strong> Always maintain clear links between generated responses and source material</li>\n",
       "                        <li><strong>Modality Integration:</strong> Design data pipelines to preserve context across different media types</li>\n",
       "                        <li><strong>Ethical Considerations:</strong> Implement governance frameworks for data usage and content generation</li>\n",
       "                        <li><strong>Performance Monitoring:</strong> Track accuracy, relevance, and business value metrics</li>\n",
       "                    </ul>\n",
       "                </div>\n",
       "                \n",
       "                <div style=\"font-size:0.8em; border-top:1px solid #ddd; margin-top:20px; padding-top:10px;\">\n",
       "                    <p><strong>Sources:</strong></p>\n",
       "                    <ul>\n",
       "                        <li><a href=\"https://docs.aws.amazon.com/bedrock/latest/userguide/kb-create.html#kb-create-console\" target=\"_blank\">Create a knowledge base by connecting to a data source in Amazon Bedrock Knowledge Bases</a></li>\n",
       "                        <li><a href=\"https://aws.amazon.com/blogs/machine-learning/build-a-contextual-chatbot-application-using-knowledge-bases-for-amazon-bedrock/\" target=\"_blank\">Build a contextual chatbot application using Amazon Bedrock Knowledge Bases - AWS Machine Learning Blog</a></li>\n",
       "                    </ul>\n",
       "                </div>\n",
       "            </div>\n",
       "            "
      ],
      "text/plain": [
       "<IPython.core.display.HTML object>"
      ]
     },
     "metadata": {},
     "output_type": "display_data"
    },
    {
     "name": "stdout",
     "output_type": "stream",
     "text": [
      "Setup complete!\n",
      "Using AWS region: us-west-2\n"
     ]
    }
   ],
   "source": [
    "%pip install \"boto3>=1.37.4\" s3fs tqdm retrying packaging --upgrade -qq\n",
    "\n",
    "import boto3\n",
    "import json\n",
    "import uuid\n",
    "import time\n",
    "import os\n",
    "import random\n",
    "import sagemaker\n",
    "import logging\n",
    "import mimetypes\n",
    "from botocore.exceptions import ClientError\n",
    "import warnings\n",
    "warnings.filterwarnings('ignore')\n",
    "\n",
    "# Import utils and access the business context function\n",
    "from utils.utils import BDARAGUtils\n",
    "\n",
    "# Create utility instance to use its methods\n",
    "rag_utils = BDARAGUtils()\n",
    "\n",
    "# Display comprehensive business context for RAG\n",
    "rag_utils.show_business_context(\"rag_complete\")\n",
    "\n",
    "# Configure logging\n",
    "logging.basicConfig(format='[%(asctime)s] p%(process)s {%(filename)s:%(lineno)d} %(levelname)s - %(message)s', level=logging.INFO)\n",
    "logger = logging.getLogger(__name__)\n",
    "\n",
    "sts_client = boto3.client('sts')\n",
    "account_id = sts_client.get_caller_identity()[\"Account\"]\n",
    "region_name = boto3.session.Session().region_name\n",
    "\n",
    "s3_client = boto3.client('s3')\n",
    "bedrock_agent_client = boto3.client('bedrock-agent')\n",
    "bedrock_agent_runtime_client = boto3.client('bedrock-agent-runtime')\n",
    "\n",
    "print(f\"Setup complete!\")\n",
    "print(f\"Using AWS region: {region_name}\")"
   ]
  },
  {
   "cell_type": "markdown",
   "metadata": {},
   "source": [
    "## 1. Create Multimodal Knowledge Base\n",
    "\n",
    "Now we'll create a Knowledge Base that can handle our multimodal data."
   ]
  },
  {
   "cell_type": "code",
   "execution_count": 2,
   "metadata": {
    "execution": {
     "iopub.execute_input": "2025-10-31T10:35:23.776198Z",
     "iopub.status.busy": "2025-10-31T10:35:23.775947Z",
     "iopub.status.idle": "2025-10-31T10:38:08.704646Z",
     "shell.execute_reply": "2025-10-31T10:38:08.703776Z",
     "shell.execute_reply.started": "2025-10-31T10:35:23.776172Z"
    }
   },
   "outputs": [
    {
     "name": "stdout",
     "output_type": "stream",
     "text": [
      "Using bucket: bda-workshop-us-west-2-033741858282\n",
      "Using S3 prefix: bda-workshop/\n"
     ]
    },
    {
     "data": {
      "text/html": [
       "\n",
       "            <div style=\"background-color:#f8f8f8; padding:20px; border-radius:10px; margin:20px 0; font-family:Arial, sans-serif;\">\n",
       "                <h2 style=\"color:#0972d1;\">Amazon Bedrock Knowledge Base</h2>\n",
       "                \n",
       "                <p>Amazon Bedrock Knowledge Bases is a fully managed capability that you can use to implement the entire RAG workflow from ingestion to retrieval and prompt augmentation—without building custom integrations to data sources and managing data flows. Knowledge Bases serve as the intelligent memory for foundation models, allowing them to use your data to generate accurate and contextually relevant responses.</p>\n",
       "                \n",
       "                <div style=\"margin:20px 0;\">\n",
       "                    <h3 style=\"color:#0972d1;\">Key Capabilities</h3>\n",
       "                    <ul>\n",
       "                        <li><strong>Multimodal Support:</strong> Process and query across documents, images, audio, and video content</li>\n",
       "                        <li><strong>Vector Embedding:</strong> Automatically convert content into vector embeddings using foundation models</li>\n",
       "                        <li><strong>Intelligent Chunking:</strong> Apply different chunking strategies (fixed-size, hierarchical, semantic) based on content</li>\n",
       "                        <li><strong>Secure Access:</strong> Fine-grained access controls and encryption for sensitive information</li>\n",
       "                    </ul>\n",
       "                </div>\n",
       "                \n",
       "                <div style=\"margin:20px 0;\">\n",
       "                    <h3 style=\"color:#0972d1;\">Architecture Components</h3>\n",
       "                    <ul>\n",
       "                        <li><strong>OpenSearch Serverless:</strong> Fully managed vector database for efficient similarity search</li>\n",
       "                        <li><strong>S3 Storage:</strong> Secure object storage for maintaining original files and supplemental content</li>\n",
       "                        <li><strong>IAM Roles:</strong> Secure execution roles with fine-grained permissions for Knowledge Base operations</li>\n",
       "                        <li><strong>Foundation Models:</strong> Access to embedding, generation, and reranking models via Amazon Bedrock</li>\n",
       "                    </ul>\n",
       "                </div>\n",
       "                \n",
       "                <div style=\"font-size:0.8em; border-top:1px solid #ddd; margin-top:20px; padding-top:10px;\">\n",
       "                    <p><strong>Sources:</strong></p>\n",
       "                    <ul>\n",
       "                        <li><a href=\"https://docs.aws.amazon.com/nova/latest/userguide/rag-br-knowledge.html\" target=\"_blank\">Using Amazon Bedrock Knowledge Bases - Amazon Nova</a></li>\n",
       "                        <li><a href=\"https://docs.aws.amazon.com/bedrock/latest/userguide/kb-how-it-works.html\" target=\"_blank\">How Amazon Bedrock knowledge bases work</a></li>\n",
       "                        <li><a href=\"https://docs.aws.amazon.com/prescriptive-guidance/latest/retrieval-augmented-generation-options/rag-fully-managed-bedrock.html\" target=\"_blank\">Knowledge bases for Amazon Bedrock - AWS Prescriptive Guidance</a></li>\n",
       "                    </ul>\n",
       "                </div>\n",
       "            </div>\n",
       "            "
      ],
      "text/plain": [
       "<IPython.core.display.HTML object>"
      ]
     },
     "metadata": {},
     "output_type": "display_data"
    },
    {
     "name": "stdout",
     "output_type": "stream",
     "text": [
      "✅ Found 10 objects in bucket with prefix bda-workshop/\n",
      "  - bda-workshop/audio/output/1df6199b-cd86-432f-bf33-ccfe9148c22d/0/.s3_access_check (0 bytes)\n",
      "  - bda-workshop/audio/output/1df6199b-cd86-432f-bf33-ccfe9148c22d/0/standard_output/0/result.json (129382 bytes)\n",
      "  - bda-workshop/audio/output/1df6199b-cd86-432f-bf33-ccfe9148c22d/job_metadata.json (454 bytes)\n",
      "  - bda-workshop/audio/podcastdemo.mp3 (4846268 bytes)\n",
      "  - bda-workshop/image/output/5d3c053f-34cc-4993-a99b-65f71290b8f7/0/.s3_access_check (0 bytes)\n",
      "  - bda-workshop/image/output/5d3c053f-34cc-4993-a99b-65f71290b8f7/0/custom_output/0/result.json (321 bytes)\n",
      "  - bda-workshop/image/output/5d3c053f-34cc-4993-a99b-65f71290b8f7/0/standard_output/0/result.json (6045 bytes)\n",
      "  - bda-workshop/image/output/5d3c053f-34cc-4993-a99b-65f71290b8f7/job_metadata.json (641 bytes)\n",
      "  - bda-workshop/image/travel.png (409501 bytes)\n",
      "  - bda-workshop/video/content-moderation-demo.mp4 (49457586 bytes)\n",
      "🏗️ Creating Knowledge Base: multimodal-rag-kb-1103523\n",
      "This may take several minutes to complete...\n",
      "========================================================================================\n",
      "Step 1 - Creating S3 bucket(s) for Knowledge Base documents\n",
      "Checking S3 buckets: ['bda-workshop-us-west-2-033741858282', 'multimodal-rag-kb-1103523-intermediate-1103523']\n",
      "✓ Bucket bda-workshop-us-west-2-033741858282 already exists - using it\n",
      "Creating bucket multimodal-rag-kb-1103523-intermediate-1103523\n",
      "✓ Successfully created bucket multimodal-rag-kb-1103523-intermediate-1103523\n",
      "========================================================================================\n",
      "Step 2 - Creating Knowledge Base execution role and policies\n",
      "Creating IAM role and policies for Bedrock Knowledge Base\n",
      "✓ Created role: AmazonBedrockExecutionRoleForKnowledgeBase_1103523\n",
      "✓ Created policy: AmazonBedrockFoundationModelPolicyForKnowledgeBase_1103523\n",
      "✓ Attached policy AmazonBedrockFoundationModelPolicyForKnowledgeBase_1103523 to role\n",
      "✓ Created policy: AmazonBedrockBDAPolicyForKnowledgeBase_1103523\n",
      "✓ Attached policy AmazonBedrockBDAPolicyForKnowledgeBase_1103523 to role\n",
      "✓ Created policy: AmazonBedrockS3PolicyForKnowledgeBase_1103523\n",
      "✓ Attached policy AmazonBedrockS3PolicyForKnowledgeBase_1103523 to role\n",
      "Waiting for IAM changes to propagate...\n",
      "========================================================================================\n",
      "Step 3 - Creating vector store policies\n",
      "✓ Network policy created\n",
      "✓ Access policy created\n",
      "========================================================================================\n",
      "Step 4 - Creating vector store collection\n",
      "Collection ID: rgfoevyjulncbexf9fwj\n",
      "Collection ARN: arn:aws:aoss:us-west-2:033741858282:collection/rgfoevyjulncbexf9fwj\n",
      "Host: rgfoevyjulncbexf9fwj.us-west-2.aoss.amazonaws.com\n",
      "Creating collection...\n",
      "..............................\n",
      "Collection successfully created.\n",
      "OpenSearch serverless policy ARN: arn:aws:iam::033741858282:policy/AmazonBedrockOSSPolicyForKnowledgeBase_1103523\n",
      "✓ Policy attached to execution role\n",
      "Sleeping for a minute to ensure data access rules have been enforced\n",
      "========================================================================================\n",
      "Step 5 - Creating vector index\n"
     ]
    },
    {
     "name": "stderr",
     "output_type": "stream",
     "text": [
      "[2025-10-31 10:37:07,681] p2573 {base.py:258} INFO - PUT https://rgfoevyjulncbexf9fwj.us-west-2.aoss.amazonaws.com:443/bedrock-sample-rag-index-1103523 [status:200 request:0.333s]\n"
     ]
    },
    {
     "name": "stdout",
     "output_type": "stream",
     "text": [
      "Creating vector index:\n",
      "Response: {'acknowledged': True, 'shards_acknowledged': True, 'index': 'bedrock-sample-rag-index-1103523'}\n",
      "Waiting for index creation to complete...\n",
      "This may take about 60 seconds...\n",
      "✓ Vector index created successfully.........................\n",
      "========================================================================================\n",
      "Step 6 - Checking if Lambda function is needed\n",
      "Not creating Lambda function as chunking strategy is FIXED_SIZE\n",
      "========================================================================================\n",
      "Step 7 - Creating Knowledge Base\n",
      "Creating Knowledge Base\n",
      "✓ Knowledge Base created with ID: AT5MCPMWSZ\n",
      "Using chunking strategy: FIXED_SIZE\n",
      "Creating S3 data source for bucket: bda-workshop-us-west-2-033741858282\n",
      "✓ Data source created with ID: YOE6F9NXLA\n",
      "✅ Knowledge Base 'multimodal-rag-kb-1103523' created successfully with ID: AT5MCPMWSZ\n",
      "========================================================================================\n",
      "\n",
      "✅ Knowledge Base created successfully!\n",
      "Knowledge Base ID: AT5MCPMWSZ\n"
     ]
    }
   ],
   "source": [
    "# Import our BDARAGUtils class\n",
    "from utils.utils import BDARAGUtils\n",
    "\n",
    "# Define the S3 prefix for our dataset\n",
    "s3_prefix = 'bda-workshop/'\n",
    "\n",
    "# Create or get the bucket name for knowledge base\n",
    "bucket_name_kb = f\"bda-workshop-{region_name}-{account_id}\"\n",
    "\n",
    "print(f\"Using bucket: {bucket_name_kb}\")\n",
    "print(f\"Using S3 prefix: {s3_prefix}\")\n",
    "\n",
    "# Display business context for Knowledge Base creation\n",
    "rag_utils.show_business_context(\"knowledge_base\")\n",
    "\n",
    "# Verify the bucket exists and has content\n",
    "try:\n",
    "    response = s3_client.list_objects_v2(Bucket=bucket_name_kb, Prefix=s3_prefix, MaxKeys=10)\n",
    "    if 'Contents' in response:\n",
    "        print(f\"Found {len(response['Contents'])} objects in bucket with prefix {s3_prefix}\")\n",
    "        for obj in response['Contents']:\n",
    "            print(f\"  - {obj['Key']} ({obj['Size']} bytes)\")\n",
    "    else:\n",
    "        print(f\"⚠️ No objects found in bucket {bucket_name_kb} with prefix {s3_prefix}\")\n",
    "        print(\"Checking if bucket exists without prefix...\")\n",
    "        response = s3_client.list_objects_v2(Bucket=bucket_name_kb, MaxKeys=10)\n",
    "        if 'Contents' in response:\n",
    "            print(f\"Found {len(response['Contents'])} objects in bucket (without prefix):\")\n",
    "            for obj in response['Contents']:\n",
    "                print(f\"  - {obj['Key']}\")\n",
    "except Exception as e:\n",
    "    print(f\"Error accessing bucket {bucket_name_kb}: {e}\")\n",
    "    print(\"Please ensure the bucket exists and contains the workshop data.\")\n",
    "\n",
    "# Create a timestamp-based suffix for unique resource names\n",
    "timestamp_str = time.strftime(\"%Y%m%d%H%M%S\", time.localtime(time.time()))[-7:]\n",
    "kb_suffix = f\"{timestamp_str}\"\n",
    "\n",
    "# Define Knowledge Base parameters\n",
    "knowledge_base_name = f\"multimodal-rag-kb-{kb_suffix}\"\n",
    "knowledge_base_description = \"Multimodal RAG Knowledge Base for the BDA Workshop\"\n",
    "\n",
    "# Define data sources\n",
    "data_sources = [{\n",
    "    \"type\": \"S3\", \n",
    "    \"bucket_name\": bucket_name_kb,\n",
    "    \"inclusionPrefixes\": [s3_prefix]\n",
    "}]\n",
    "\n",
    "# Create the Knowledge Base\n",
    "print(f\"🏗️ Creating Knowledge Base: {knowledge_base_name}\")\n",
    "print(\"This may take several minutes to complete...\")\n",
    "\n",
    "try:\n",
    "    knowledge_base = BDARAGUtils(\n",
    "        kb_name=knowledge_base_name,\n",
    "        kb_description=knowledge_base_description,\n",
    "        data_sources=data_sources,\n",
    "        multi_modal=True,\n",
    "        parser='BEDROCK_DATA_AUTOMATION',  # Always use Bedrock's default parser\n",
    "        chunking_strategy=\"FIXED_SIZE\",\n",
    "        suffix=kb_suffix\n",
    "    )\n",
    "    \n",
    "    knowledge_base.setup_resources()\n",
    "    \n",
    "    kb_id = knowledge_base.get_knowledge_base_id()\n",
    "    print(f\"\\nKnowledge Base created successfully!\")\n",
    "    print(f\"Knowledge Base ID: {kb_id}\")\n",
    "except Exception as e:\n",
    "    print(f\"\\nError creating Knowledge Base: {e}\")"
   ]
  },
  {
   "cell_type": "markdown",
   "metadata": {},
   "source": [
    "## 2. Save Knowledge Base Configuration\n",
    "\n",
    "Now we'll save the knowledge base configuration so the RAG notebook can use it."
   ]
  },
  {
   "cell_type": "code",
   "execution_count": 3,
   "metadata": {
    "execution": {
     "iopub.execute_input": "2025-10-31T10:38:08.709035Z",
     "iopub.status.busy": "2025-10-31T10:38:08.708349Z",
     "iopub.status.idle": "2025-10-31T10:38:08.716843Z",
     "shell.execute_reply": "2025-10-31T10:38:08.716033Z",
     "shell.execute_reply.started": "2025-10-31T10:38:08.709001Z"
    }
   },
   "outputs": [
    {
     "name": "stdout",
     "output_type": "stream",
     "text": [
      "✅ Knowledge Base configuration saved to ../05-rag/kb_config.json\n",
      "The RAG notebook (05-rag) can now use this knowledge base.\n",
      "Knowledge Base ID: AT5MCPMWSZ\n"
     ]
    }
   ],
   "source": [
    "# Save knowledge base configuration for the RAG notebook\n",
    "if 'knowledge_base' in locals() and 'kb_id' in locals():\n",
    "    kb_config = {\n",
    "        'knowledge_base_id': kb_id,\n",
    "        'knowledge_base_name': knowledge_base_name,\n",
    "        'bucket_name': bucket_name_kb,\n",
    "        's3_prefix': s3_prefix,\n",
    "        'suffix': kb_suffix,\n",
    "        'region_name': region_name,\n",
    "        'account_id': account_id,\n",
    "        'knowledge_base_object': {\n",
    "            'kb_name': knowledge_base.kb_name,\n",
    "            'kb_description': knowledge_base.kb_description,\n",
    "            'data_sources': knowledge_base.data_sources,\n",
    "            'multi_modal': knowledge_base.multi_modal,\n",
    "            'parser': knowledge_base.parser,\n",
    "            'chunking_strategy': knowledge_base.chunking_strategy,\n",
    "            'embedding_model': knowledge_base.embedding_model\n",
    "        }\n",
    "    }\n",
    "    \n",
    "    # Save to a JSON file that the RAG notebook can read\n",
    "    import json\n",
    "    with open('../05-rag/kb_config.json', 'w') as f:\n",
    "        json.dump(kb_config, f, indent=2)\n",
    "    \n",
    "    print(f\"Knowledge Base configuration saved to ../05-rag/kb_config.json\")\n",
    "    print(f\"The RAG notebook (05-rag) can now use this knowledge base.\")\n",
    "    print(f\"Knowledge Base ID: {kb_id}\")\n",
    "else:\n",
    "    print(\"⚠️ Knowledge Base was not created successfully. Please run the previous cell first.\")"
   ]
  },
  {
   "cell_type": "markdown",
   "metadata": {},
   "source": [
    "## Summary\n",
    "\n",
    "This notebook has set up the foundation for a multimodal RAG application using Amazon Bedrock Data Automation. The key components created include:\n",
    "\n",
    "### What was accomplished:\n",
    "- **Environment Setup**: Installed required dependencies and configured AWS clients\n",
    "- **Knowledge Base Creation**: Established a multimodal knowledge base capable of processing documents, images, audio, and video\n",
    "- **S3 Integration**: Connected the knowledge base to your S3 data sources\n",
    "- **Configuration Export**: Saved the knowledge base configuration for use in the RAG notebook\n",
    "\n",
    "### Next Steps:\n",
    "1. **Data Ingestion**: Upload your multimodal content to the configured S3 bucket\n",
    "2. **Knowledge Base Sync**: Allow the knowledge base to process and index your content\n",
    "3. **RAG Implementation**: Use the saved configuration in the RAG notebook to build your application\n",
    "4. **Testing & Optimization**: Test queries across different modalities and optimize performance\n",
    "\n",
    "The knowledge base is now ready to power your multimodal RAG application, enabling intelligent search and generation across all your content types."
   ]
  }
 ],
 "metadata": {
  "kernelspec": {
   "display_name": "Python 3 (ipykernel)",
   "language": "python",
   "name": "python3"
  },
  "language_info": {
   "codemirror_mode": {
    "name": "ipython",
    "version": 3
   },
   "file_extension": ".py",
   "mimetype": "text/x-python",
   "name": "python",
   "nbconvert_exporter": "python",
   "pygments_lexer": "ipython3",
   "version": "3.12.9"
  }
 },
 "nbformat": 4,
 "nbformat_minor": 4
}
